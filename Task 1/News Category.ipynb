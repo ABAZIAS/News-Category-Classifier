{
 "cells": [
  {
   "cell_type": "code",
   "execution_count": 1,
   "id": "8de28f0d",
   "metadata": {},
   "outputs": [],
   "source": [
    "import pandas as pd\n",
    "import numpy as np\n",
    "from sklearn.model_selection import train_test_split\n",
    "np.random.seed(42)\n"
   ]
  },
  {
   "cell_type": "code",
   "execution_count": 2,
   "id": "447ccf60",
   "metadata": {},
   "outputs": [
    {
     "name": "stderr",
     "output_type": "stream",
     "text": [
      "[nltk_data] Downloading package punkt to C:\\Users\\USER/nltk_data...\n",
      "[nltk_data]   Package punkt is already up-to-date!\n",
      "[nltk_data] Downloading package stopwords to\n",
      "[nltk_data]     C:\\Users\\USER/nltk_data...\n",
      "[nltk_data]   Package stopwords is already up-to-date!\n",
      "[nltk_data] Downloading package wordnet to C:\\Users\\USER/nltk_data...\n",
      "[nltk_data]   Package wordnet is already up-to-date!\n",
      "[nltk_data] Downloading package averaged_perceptron_tagger_eng to\n",
      "[nltk_data]     C:\\Users\\USER/nltk_data...\n",
      "[nltk_data]   Package averaged_perceptron_tagger_eng is already up-to-\n",
      "[nltk_data]       date!\n"
     ]
    },
    {
     "data": {
      "text/plain": [
       "True"
      ]
     },
     "execution_count": 2,
     "metadata": {},
     "output_type": "execute_result"
    }
   ],
   "source": [
    "import nltk \n",
    "nltk.download('punkt')\n",
    "nltk.download('stopwords')\n",
    "nltk.download('wordnet')\n",
    "nltk.download('averaged_perceptron_tagger_eng')"
   ]
  },
  {
   "cell_type": "code",
   "execution_count": 3,
   "id": "55f93676",
   "metadata": {},
   "outputs": [],
   "source": [
    "df = pd.read_csv(\"train.csv\")\n",
    "df[\"Title\"] = df[\"Title\"].fillna(\"\")\n",
    "df[\"Description\"] = df[\"Description\"].fillna(\"\")\n",
    "X = df['Title'].str.strip() + \" \" + df['Description'].str.strip()\n",
    "Y = df[\"Class Index\"]\n",
    "x_train,x_val,y_train,y_val=train_test_split(X,Y,test_size=0.2,random_state=42)\n"
   ]
  },
  {
   "cell_type": "code",
   "execution_count": 7,
   "id": "5e479e5b",
   "metadata": {},
   "outputs": [],
   "source": [
    "from nltk.corpus import wordnet\n",
    "def get_wordnet_pos(treebank_tag):\n",
    "    if treebank_tag.startswith(\"J\"):\n",
    "        return wordnet.ADJ\n",
    "    elif treebank_tag.startswith(\"V\"):\n",
    "        return wordnet.VERB\n",
    "    elif treebank_tag.startswith(\"N\"):\n",
    "        return wordnet.NOUN\n",
    "    elif treebank_tag.startswith(\"R\"):\n",
    "        return wordnet.ADV\n",
    "    else:\n",
    "        return wordnet.NOUN"
   ]
  },
  {
   "cell_type": "code",
   "execution_count": 8,
   "id": "ddbdcc35",
   "metadata": {},
   "outputs": [
    {
     "data": {
      "text/plain": [
       "71787    [bbc, set, major, shake-up, ,, claim, newspape...\n",
       "67218    [marsh, averts, cash, crunch, embattle, insura...\n",
       "54066    [jeter, ,, yankee, look, take, control, (, ap,...\n",
       "7168     [fly, sun, safety, genesis, capsule, come, bac...\n",
       "29618    [stock, see, flat, nortel, oil, weigh, new, yo...\n",
       "                               ...                        \n",
       "17283    [cheney, praise, bush, decisive, leader, new, ...\n",
       "89286    [greek, ,, british, police, break, illegal, so...\n",
       "47263    [houston, astros, hold, wild, card, lead, 4-2,...\n",
       "83913    [singapore, install, surveillance, camera, ant...\n",
       "74735    [net, waive, damone, brown, ,, darius, rice, (...\n",
       "Length: 24000, dtype: object"
      ]
     },
     "execution_count": 8,
     "metadata": {},
     "output_type": "execute_result"
    }
   ],
   "source": [
    "from nltk.tokenize import word_tokenize \n",
    "from nltk.stem.wordnet import WordNetLemmatizer \n",
    "from nltk.corpus import stopwords \n",
    "from nltk import pos_tag \n",
    "stop_words=set(stopwords.words(\"english\")) \n",
    "def process_text(text: str): \n",
    "   text=text.lower() \n",
    "   tokens=word_tokenize(text) \n",
    "   pos_tags=pos_tag(tokens) \n",
    "   lem = WordNetLemmatizer() \n",
    "   lem_tokens=[] \n",
    "   for word,pos in (pos_tags):\n",
    "         if word not in stop_words: \n",
    "          wn_pos= get_wordnet_pos(pos) \n",
    "          lem_tokens.append(lem.lemmatize(word,wn_pos) )\n",
    "   return lem_tokens\n",
    "\n",
    "x_train.apply(process_text) \n",
    "x_val.apply(process_text)"
   ]
  },
  {
   "cell_type": "code",
   "execution_count": null,
   "id": "ab48be23",
   "metadata": {},
   "outputs": [
    {
     "name": "stdout",
     "output_type": "stream",
     "text": [
      "Python exe: c:\\Users\\USER\\AppData\\Local\\Programs\\Python\\Python312\\python.exe\n",
      "NLTK data paths: ['C:\\\\Users\\\\USER/nltk_data', 'c:\\\\Users\\\\USER\\\\AppData\\\\Local\\\\Programs\\\\Python\\\\Python312\\\\nltk_data', 'c:\\\\Users\\\\USER\\\\AppData\\\\Local\\\\Programs\\\\Python\\\\Python312\\\\share\\\\nltk_data', 'c:\\\\Users\\\\USER\\\\AppData\\\\Local\\\\Programs\\\\Python\\\\Python312\\\\lib\\\\nltk_data', 'C:\\\\Users\\\\USER\\\\AppData\\\\Roaming\\\\nltk_data', 'C:\\\\nltk_data', 'D:\\\\nltk_data', 'E:\\\\nltk_data']\n"
     ]
    }
   ],
   "source": [
    "import sys, nltk\n",
    "print(\"Python exe:\", sys.executable)\n",
    "print(\"NLTK data paths:\", nltk.data.path)\n"
   ]
  }
 ],
 "metadata": {
  "kernelspec": {
   "display_name": "Python 3",
   "language": "python",
   "name": "python3"
  },
  "language_info": {
   "codemirror_mode": {
    "name": "ipython",
    "version": 3
   },
   "file_extension": ".py",
   "mimetype": "text/x-python",
   "name": "python",
   "nbconvert_exporter": "python",
   "pygments_lexer": "ipython3",
   "version": "3.12.6"
  }
 },
 "nbformat": 4,
 "nbformat_minor": 5
}
