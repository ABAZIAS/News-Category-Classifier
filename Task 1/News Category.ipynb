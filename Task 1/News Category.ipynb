{
 "cells": [
  {
   "cell_type": "code",
   "execution_count": 1,
   "id": "8de28f0d",
   "metadata": {},
   "outputs": [],
   "source": [
    "import pandas as pd\n",
    "import numpy as np\n",
    "from sklearn.model_selection import train_test_split\n",
    "np.random.seed(42)\n"
   ]
  },
  {
   "cell_type": "code",
   "execution_count": 2,
   "id": "447ccf60",
   "metadata": {},
   "outputs": [
    {
     "name": "stderr",
     "output_type": "stream",
     "text": [
      "[nltk_data] Downloading package punkt to C:\\Users\\USER/nltk_data...\n",
      "[nltk_data]   Package punkt is already up-to-date!\n",
      "[nltk_data] Downloading package stopwords to\n",
      "[nltk_data]     C:\\Users\\USER/nltk_data...\n",
      "[nltk_data]   Package stopwords is already up-to-date!\n",
      "[nltk_data] Downloading package wordnet to C:\\Users\\USER/nltk_data...\n",
      "[nltk_data]   Package wordnet is already up-to-date!\n",
      "[nltk_data] Downloading package averaged_perceptron_tagger_eng to\n",
      "[nltk_data]     C:\\Users\\USER/nltk_data...\n",
      "[nltk_data]   Package averaged_perceptron_tagger_eng is already up-to-\n",
      "[nltk_data]       date!\n"
     ]
    },
    {
     "data": {
      "text/plain": [
       "True"
      ]
     },
     "execution_count": 2,
     "metadata": {},
     "output_type": "execute_result"
    }
   ],
   "source": [
    "import nltk \n",
    "nltk.download('punkt')\n",
    "nltk.download('stopwords')\n",
    "nltk.download('wordnet')\n",
    "nltk.download('averaged_perceptron_tagger_eng')"
   ]
  },
  {
   "cell_type": "code",
   "execution_count": 51,
   "id": "55f93676",
   "metadata": {},
   "outputs": [
    {
     "name": "stdout",
     "output_type": "stream",
     "text": [
      "0    Wall St. Bears Claw Back Into the Black (Reute...\n",
      "1    Carlyle Looks Toward Commercial Aerospace (Reu...\n",
      "2    Oil and Economy Cloud Stocks' Outlook (Reuters...\n",
      "3    Iraq Halts Oil Exports from Main Southern Pipe...\n",
      "4    Oil prices soar to all-time record, posing new...\n",
      "dtype: object\n"
     ]
    }
   ],
   "source": [
    "df = pd.read_csv(\"train.csv\")\n",
    "df[\"Title\"] = df[\"Title\"].fillna(\"\")\n",
    "df[\"Description\"] = df[\"Description\"].fillna(\"\")\n",
    "X = df['Title'].str.strip() + \" \" + df['Description'].str.strip()\n",
    "Y = df[\"Class Index\"]\n",
    "print(X.head())"
   ]
  },
  {
   "cell_type": "code",
   "execution_count": 52,
   "id": "4995f076",
   "metadata": {},
   "outputs": [
    {
     "name": "stdout",
     "output_type": "stream",
     "text": [
      "0    Fears for T N pension after talks Unions repre...\n",
      "1    The Race is On: Second Private Team Sets Launc...\n",
      "2    Ky. Company Wins Grant to Study Peptides (AP) ...\n",
      "3    Prediction Unit Helps Forecast Wildfires (AP) ...\n",
      "4    Calif. Aims to Limit Farm-Related Smog (AP) AP...\n",
      "dtype: object\n"
     ]
    }
   ],
   "source": [
    "df_test = pd.read_csv(\"test.csv\")\n",
    "df_test[\"Title\"] = df_test[\"Title\"].fillna(\"\")\n",
    "df_test[\"Description\"] = df_test[\"Description\"].fillna(\"\")\n",
    "X_test = df_test['Title'].str.strip() + \" \" + df_test['Description'].str.strip()\n",
    "Y_test = df_test[\"Class Index\"]\n",
    "print(X_test.head())"
   ]
  },
  {
   "cell_type": "code",
   "execution_count": 53,
   "id": "5e479e5b",
   "metadata": {},
   "outputs": [],
   "source": [
    "from nltk.corpus import wordnet\n",
    "def get_wordnet_pos(treebank_tag):\n",
    "    if treebank_tag.startswith(\"J\"):\n",
    "        return wordnet.ADJ\n",
    "    elif treebank_tag.startswith(\"V\"):\n",
    "        return wordnet.VERB\n",
    "    elif treebank_tag.startswith(\"N\"):\n",
    "        return wordnet.NOUN\n",
    "    elif treebank_tag.startswith(\"R\"):\n",
    "        return wordnet.ADV\n",
    "    else:\n",
    "        return wordnet.NOUN"
   ]
  },
  {
   "cell_type": "code",
   "execution_count": 54,
   "id": "ddbdcc35",
   "metadata": {},
   "outputs": [
    {
     "name": "stdout",
     "output_type": "stream",
     "text": [
      "0    wall st. bear claw back black ( reuters ) reut...\n",
      "1    carlyle look toward commercial aerospace ( reu...\n",
      "2    oil economy cloud stock ' outlook ( reuters ) ...\n",
      "3    iraq halt oil export main southern pipeline ( ...\n",
      "4    oil price soar all-time record , pose new mena...\n",
      "dtype: object\n",
      "<class 'pandas.core.series.Series'>\n",
      "<class 'str'>\n",
      "0    fear n pension talk union represent worker tur...\n",
      "1    race : second private team set launch date hum...\n",
      "2    ky. company win grant study peptide ( ap ) ap ...\n",
      "3    prediction unit help forecast wildfire ( ap ) ...\n",
      "4    calif. aim limit farm-related smog ( ap ) ap -...\n",
      "dtype: object\n",
      "<class 'pandas.core.series.Series'>\n",
      "<class 'str'>\n"
     ]
    }
   ],
   "source": [
    "from nltk.tokenize import word_tokenize \n",
    "from nltk.stem.wordnet import WordNetLemmatizer \n",
    "from nltk.corpus import stopwords \n",
    "from nltk import pos_tag \n",
    "\n",
    "stop_words=set(stopwords.words(\"english\")) \n",
    "lem = WordNetLemmatizer() \n",
    "\n",
    "def process_text(text: str): \n",
    "   text=text.lower() \n",
    "   tokens=word_tokenize(text) \n",
    "   pos_tags=pos_tag(tokens) \n",
    "   lem_tokens=[] \n",
    "   for word,pos in (pos_tags):\n",
    "         if word not in stop_words: \n",
    "          wn_pos= get_wordnet_pos(pos) \n",
    "          lem_tokens.append(lem.lemmatize(word,wn_pos) )\n",
    "   return \" \".join(lem_tokens)\n",
    "\n",
    "X=X.map(process_text) \n",
    "X_test=X_test.map(process_text)\n",
    "print(X.head())\n",
    "print(type(X))\n",
    "print(type(X.iloc[0]))\n",
    "print(X_test.head())\n",
    "print(type(X_test))\n",
    "print(type(X_test.iloc[0]))\n"
   ]
  },
  {
   "cell_type": "code",
   "execution_count": 64,
   "id": "af2ac690",
   "metadata": {},
   "outputs": [
    {
     "name": "stdout",
     "output_type": "stream",
     "text": [
      "vocab size: 57389\n",
      "sample vocab (first 40): ['wall', 'st', 'bear', 'claw', 'back', 'black', 'reuters', 'short', 'sellers', 'street', 'dwindling', 'band', 'ultra', 'cynics', 'see', 'green', 'carlyle', 'look', 'toward', 'commercial', 'aerospace', 'private', 'investment', 'firm', 'group', 'which', 'reputation', 'make', 'well', 'timed', 'occasionally', 'controversial', 'play', 'defense', 'industry', 'quietly', 'placed', 'its', 'bet', 'another']\n",
      "<Compressed Sparse Row sparse matrix of dtype 'float64'\n",
      "\twith 2716821 stored elements and shape (120000, 57389)>\n",
      "  Coords\tValues\n",
      "  (0, 55180)\t0.34700084443334067\n",
      "  (0, 48401)\t0.17842317097299124\n",
      "  (0, 6867)\t0.20391731462432952\n",
      "  (0, 11377)\t0.28903659329150067\n",
      "  (0, 6110)\t0.13395460988987337\n",
      "  (0, 7731)\t0.19715834313127986\n",
      "  (0, 43233)\t0.20331361474553777\n",
      "  (0, 46428)\t0.18723400761643189\n",
      "  (0, 45660)\t0.34946489917507445\n",
      "  (0, 49067)\t0.1656229558567743\n",
      "  (0, 16743)\t0.34946489917507445\n",
      "  (0, 6393)\t0.2330209054080148\n",
      "  (0, 52935)\t0.2636798646260599\n",
      "  (0, 13826)\t0.36556796293462857\n",
      "  (0, 45569)\t0.15098056029789214\n",
      "  (0, 22574)\t0.1935965901953284\n",
      "  (1, 43233)\t0.16020711363846504\n",
      "  (1, 9985)\t0.5215416661590679\n",
      "  (1, 30741)\t0.11991209957724924\n",
      "  (1, 51919)\t0.15181811155600927\n",
      "  (1, 11982)\t0.16073195665636833\n",
      "  (1, 3295)\t0.1968461471459907\n",
      "  (1, 40463)\t0.15382068996297238\n",
      "  (1, 26756)\t0.14747893332834963\n",
      "  (1, 19801)\t0.12340899702500101\n",
      "  :\t:\n",
      "  (119998, 48690)\t0.4476565222446175\n",
      "  (119998, 43774)\t0.17763490498709064\n",
      "  (119999, 3881)\t0.15306442537261433\n",
      "  (119999, 35430)\t0.07383847857428176\n",
      "  (119999, 35323)\t0.27556359726379503\n",
      "  (119999, 21720)\t0.1069638281851573\n",
      "  (119999, 51991)\t0.13052616506941386\n",
      "  (119999, 56892)\t0.10153854916944761\n",
      "  (119999, 19811)\t0.09247114870173358\n",
      "  (119999, 39054)\t0.1550667071465634\n",
      "  (119999, 48543)\t0.1376089809643982\n",
      "  (119999, 37808)\t0.17389985863009114\n",
      "  (119999, 18024)\t0.20279517650446185\n",
      "  (119999, 44003)\t0.13288956039898078\n",
      "  (119999, 27551)\t0.18456594790879438\n",
      "  (119999, 56011)\t0.3119406946819384\n",
      "  (119999, 10062)\t0.38938459558667066\n",
      "  (119999, 51812)\t0.15466019989539112\n",
      "  (119999, 16307)\t0.1766112004771673\n",
      "  (119999, 2592)\t0.2021382872380002\n",
      "  (119999, 25911)\t0.18140525736165547\n",
      "  (119999, 41800)\t0.39666013702485736\n",
      "  (119999, 3995)\t0.23037854784146802\n",
      "  (119999, 34235)\t0.2235357263661652\n",
      "  (119999, 54707)\t0.20876585182276694\n"
     ]
    },
    {
     "data": {
      "text/plain": [
       "'\\ntfidf_train=tfidf_train.toarray()\\nprint(tfidf_train)'"
      ]
     },
     "execution_count": 64,
     "metadata": {},
     "output_type": "execute_result"
    }
   ],
   "source": [
    "from sklearn.feature_extraction.text import TfidfVectorizer\n",
    "\n",
    "# Balanced choice for news titles+descriptions\n",
    "vectorizer = TfidfVectorizer()\n",
    "tfidf_train=vectorizer.fit_transform(X)\n",
    "x_test=vectorizer.transform(X_test)\n",
    "\n",
    "print(\"vocab size:\", len(vectorizer.vocabulary_))\n",
    "print(\"sample vocab (first 40):\", list(vectorizer.vocabulary_.keys())[:40])\n",
    "print(tfidf_train)\n",
    "'''\n",
    "tfidf_train=tfidf_train.toarray()\n",
    "print(tfidf_train)'''"
   ]
  },
  {
   "cell_type": "code",
   "execution_count": 65,
   "id": "46108b4c",
   "metadata": {},
   "outputs": [
    {
     "name": "stdout",
     "output_type": "stream",
     "text": [
      "x_train shape: (96000, 57389)\n",
      "y_train shape: [1 2 2 ... 2 4 4]\n",
      "x_val shape: (24000, 57389)\n",
      "y_val shape: (24000,)\n"
     ]
    }
   ],
   "source": [
    "def one_hot_encode(y, num_classes):\n",
    "    y = np.asarray(y, dtype=int)\n",
    "    oh = np.zeros((y.shape[0], num_classes), dtype=float)\n",
    "    oh[np.arange(y.shape[0]), y] = 1.0  # Subtract 1 for zero-based indexing\n",
    "    return oh\n",
    "\n",
    "yint = Y.values.astype(int)\n",
    "y_hot = one_hot_encode(yint, 5)\n",
    "y_labels=np.argmax(y_hot,axis=1)\n",
    "\n",
    "yinttest = Y_test.values.astype(int)\n",
    "y_hottest = one_hot_encode(yinttest, 5)\n",
    "y_test=np.argmax(y_hottest,axis=1)\n",
    "\n",
    "x_train, x_val, y_train, y_val = train_test_split(tfidf_train, y_labels, test_size=0.2, random_state=42)\n",
    "\n",
    "\n",
    "print(\"x_train shape:\", x_train.shape)\n",
    "print(\"y_train shape:\", y_train)\n",
    "print(\"x_val shape:\", x_val.shape)\n",
    "print(\"y_val shape:\", y_val.shape)"
   ]
  },
  {
   "cell_type": "code",
   "execution_count": 66,
   "id": "432de43e",
   "metadata": {},
   "outputs": [
    {
     "name": "stdout",
     "output_type": "stream",
     "text": [
      "Fitting LogisticRegression on sparse TF-IDF (this may take a bit)...\n"
     ]
    },
    {
     "name": "stderr",
     "output_type": "stream",
     "text": [
      "c:\\Users\\USER\\AppData\\Local\\Programs\\Python\\Python312\\Lib\\site-packages\\sklearn\\linear_model\\_logistic.py:1247: FutureWarning: 'multi_class' was deprecated in version 1.5 and will be removed in 1.7. From then on, it will always use 'multinomial'. Leave it to its default value to avoid this warning.\n",
      "  warnings.warn(\n"
     ]
    },
    {
     "name": "stdout",
     "output_type": "stream",
     "text": [
      "Done.\n",
      "Accuracy: 0.9149583333333333\n",
      "Classification report:\n",
      "               precision    recall  f1-score   support\n",
      "\n",
      "           1     0.9285    0.9006    0.9143      5956\n",
      "           2     0.9527    0.9809    0.9666      6058\n",
      "           3     0.8821    0.8860    0.8840      5911\n",
      "           4     0.8954    0.8915    0.8934      6075\n",
      "\n",
      "    accuracy                         0.9150     24000\n",
      "   macro avg     0.9147    0.9147    0.9146     24000\n",
      "weighted avg     0.9148    0.9150    0.9148     24000\n",
      "\n"
     ]
    },
    {
     "data": {
      "image/png": "[encoded data removed]",
      "text/plain": [
       "<Figure size 700x600 with 2 Axes>"
      ]
     },
     "metadata": {},
     "output_type": "display_data"
    }
   ],
   "source": [
    "from sklearn.linear_model import LogisticRegression\n",
    "from sklearn.metrics import accuracy_score, classification_report, confusion_matrix\n",
    "import matplotlib.pyplot as plt\n",
    "\n",
    "clf = LogisticRegression(\n",
    "    solver='saga',\n",
    "    penalty='l2',\n",
    "    C=1.0,\n",
    "    max_iter=2000,\n",
    "    multi_class='multinomial',   \n",
    "    n_jobs=-1,\n",
    "    class_weight=None          \n",
    ")\n",
    "\n",
    "print(\"Fitting LogisticRegression on sparse TF-IDF (this may take a bit)...\")\n",
    "clf.fit(x_train,y_train)\n",
    "print(\"Done.\")\n",
    "\n",
    "y_pred = clf.predict(x_val)\n",
    "print(\"Accuracy:\", accuracy_score(y_val, y_pred))\n",
    "print(\"Classification report:\\n\", classification_report(y_val, y_pred, digits=4))\n",
    "cm = confusion_matrix(y_val, y_pred)\n",
    "plt.figure(figsize=(7,6))\n",
    "plt.imshow(cm, interpolation='nearest', cmap='Blues')\n",
    "plt.title(\"Confusion matrix\")\n",
    "plt.colorbar()\n",
    "plt.xlabel(\"Predicted\")\n",
    "plt.ylabel(\"True\")\n",
    "plt.show()"
   ]
  },
  {
   "cell_type": "code",
   "execution_count": 67,
   "id": "08e428b7",
   "metadata": {},
   "outputs": [
    {
     "name": "stdout",
     "output_type": "stream",
     "text": [
      "Accuracy: 0.9125\n",
      "Classification report:\n",
      "               precision    recall  f1-score   support\n",
      "\n",
      "           1     0.9281    0.9037    0.9157      1900\n",
      "           2     0.9520    0.9816    0.9666      1900\n",
      "           3     0.8787    0.8768    0.8778      1900\n",
      "           4     0.8902    0.8879    0.8891      1900\n",
      "\n",
      "    accuracy                         0.9125      7600\n",
      "   macro avg     0.9123    0.9125    0.9123      7600\n",
      "weighted avg     0.9123    0.9125    0.9123      7600\n",
      "\n"
     ]
    },
    {
     "data": {
      "image/png": "[encoded data removed]",
      "text/plain": [
       "<Figure size 700x600 with 2 Axes>"
      ]
     },
     "metadata": {},
     "output_type": "display_data"
    }
   ],
   "source": [
    "y_pred = clf.predict(x_test)\n",
    "print(\"Accuracy:\", accuracy_score(y_test, y_pred))\n",
    "print(\"Classification report:\\n\", classification_report(y_test, y_pred, digits=4))\n",
    "cm = confusion_matrix(y_test, y_pred)\n",
    "plt.figure(figsize=(7,6))\n",
    "plt.imshow(cm, interpolation='nearest', cmap='Blues')\n",
    "plt.title(\"Confusion matrix\")\n",
    "plt.colorbar()\n",
    "plt.xlabel(\"Predicted\")\n",
    "plt.ylabel(\"True\")\n",
    "plt.show()"
   ]
  },
  {
   "cell_type": "code",
   "execution_count": null,
   "id": "ab48be23",
   "metadata": {},
   "outputs": [
    {
     "name": "stdout",
     "output_type": "stream",
     "text": [
      "Python exe: c:\\Users\\USER\\AppData\\Local\\Programs\\Python\\Python312\\python.exe\n",
      "NLTK data paths: ['C:\\\\Users\\\\USER/nltk_data', 'c:\\\\Users\\\\USER\\\\AppData\\\\Local\\\\Programs\\\\Python\\\\Python312\\\\nltk_data', 'c:\\\\Users\\\\USER\\\\AppData\\\\Local\\\\Programs\\\\Python\\\\Python312\\\\share\\\\nltk_data', 'c:\\\\Users\\\\USER\\\\AppData\\\\Local\\\\Programs\\\\Python\\\\Python312\\\\lib\\\\nltk_data', 'C:\\\\Users\\\\USER\\\\AppData\\\\Roaming\\\\nltk_data', 'C:\\\\nltk_data', 'D:\\\\nltk_data', 'E:\\\\nltk_data']\n"
     ]
    }
   ],
   "source": [
    "import sys, nltk\n",
    "print(\"Python exe:\", sys.executable)\n",
    "print(\"NLTK data paths:\", nltk.data.path)\n"
   ]
  }
 ],
 "metadata": {
  "kernelspec": {
   "display_name": "Python 3",
   "language": "python",
   "name": "python3"
  },
  "language_info": {
   "codemirror_mode": {
    "name": "ipython",
    "version": 3
   },
   "file_extension": ".py",
   "mimetype": "text/x-python",
   "name": "python",
   "nbconvert_exporter": "python",
   "pygments_lexer": "ipython3",
   "version": "3.12.6"
  }
 },
 "nbformat": 4,
 "nbformat_minor": 5
}
